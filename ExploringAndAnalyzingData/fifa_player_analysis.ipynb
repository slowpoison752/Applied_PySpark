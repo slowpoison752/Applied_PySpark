{
 "cells": [
  {
   "cell_type": "code",
   "execution_count": 1,
   "metadata": {},
   "outputs": [],
   "source": [
    "import findspark\n",
    "findspark.init()"
   ]
  },
  {
   "cell_type": "code",
   "execution_count": 2,
   "metadata": {},
   "outputs": [],
   "source": [
    "import pyspark\n",
    "from pyspark.sql import SparkSession"
   ]
  },
  {
   "cell_type": "code",
   "execution_count": 3,
   "metadata": {},
   "outputs": [
    {
     "data": {
      "text/html": [
       "\n",
       "            <div>\n",
       "                <p><b>SparkSession - in-memory</b></p>\n",
       "                \n",
       "        <div>\n",
       "            <p><b>SparkContext</b></p>\n",
       "\n",
       "            <p><a href=\"http://LAPTOP-FTM3LPFQ:4041\">Spark UI</a></p>\n",
       "\n",
       "            <dl>\n",
       "              <dt>Version</dt>\n",
       "                <dd><code>v3.0.0</code></dd>\n",
       "              <dt>Master</dt>\n",
       "                <dd><code>local[*]</code></dd>\n",
       "              <dt>AppName</dt>\n",
       "                <dd><code>Soccer player data</code></dd>\n",
       "            </dl>\n",
       "        </div>\n",
       "        \n",
       "            </div>\n",
       "        "
      ],
      "text/plain": [
       "<pyspark.sql.session.SparkSession at 0x2c74a5bf608>"
      ]
     },
     "execution_count": 3,
     "metadata": {},
     "output_type": "execute_result"
    }
   ],
   "source": [
    "spark = SparkSession.builder.appName('Soccer player data').getOrCreate()\n",
    "spark"
   ]
  },
  {
   "cell_type": "code",
   "execution_count": 5,
   "metadata": {},
   "outputs": [
    {
     "name": "stdout",
     "output_type": "stream",
     "text": [
      "+---+-------------+------------------+------------------+-------------------+------+------+\n",
      "| id|player_api_id|       player_name|player_fifa_api_id|           birthday|height|weight|\n",
      "+---+-------------+------------------+------------------+-------------------+------+------+\n",
      "|  1|       505942|Aaron Appindangoye|            218353|1992-02-29 00:00:00|182.88|   187|\n",
      "|  2|       155782|   Aaron Cresswell|            189615|1989-12-15 00:00:00|170.18|   146|\n",
      "|  3|       162549|       Aaron Doran|            186170|1991-05-13 00:00:00|170.18|   163|\n",
      "|  4|        30572|     Aaron Galindo|            140161|1982-05-08 00:00:00|182.88|   198|\n",
      "|  5|        23780|      Aaron Hughes|             17725|1979-11-08 00:00:00|182.88|   154|\n",
      "+---+-------------+------------------+------------------+-------------------+------+------+\n",
      "only showing top 5 rows\n",
      "\n"
     ]
    }
   ],
   "source": [
    "path = 'Datasets/'\n",
    "players_data = spark.read.csv(path + 'player.csv',inferSchema=True,header=True)\n",
    "players_data.show(5)"
   ]
  },
  {
   "cell_type": "code",
   "execution_count": 8,
   "metadata": {},
   "outputs": [
    {
     "name": "stdout",
     "output_type": "stream",
     "text": [
      "root\n",
      " |-- id: integer (nullable = true)\n",
      " |-- player_api_id: integer (nullable = true)\n",
      " |-- player_name: string (nullable = true)\n",
      " |-- player_fifa_api_id: integer (nullable = true)\n",
      " |-- birthday: string (nullable = true)\n",
      " |-- height: double (nullable = true)\n",
      " |-- weight: integer (nullable = true)\n",
      "\n"
     ]
    }
   ],
   "source": [
    "players_data.printSchema()"
   ]
  },
  {
   "cell_type": "code",
   "execution_count": 9,
   "metadata": {},
   "outputs": [
    {
     "data": {
      "text/plain": [
       "11060"
      ]
     },
     "execution_count": 9,
     "metadata": {},
     "output_type": "execute_result"
    }
   ],
   "source": [
    "players_data.count()"
   ]
  },
  {
   "cell_type": "code",
   "execution_count": 10,
   "metadata": {},
   "outputs": [
    {
     "data": {
      "text/plain": [
       "7"
      ]
     },
     "execution_count": 10,
     "metadata": {},
     "output_type": "execute_result"
    }
   ],
   "source": [
    "len(players_data.columns)"
   ]
  },
  {
   "cell_type": "code",
   "execution_count": 12,
   "metadata": {},
   "outputs": [
    {
     "name": "stderr",
     "output_type": "stream",
     "text": [
      "c:\\users\\aditya\\appdata\\local\\programs\\python\\python37\\lib\\importlib\\_bootstrap.py:219: RuntimeWarning: numpy.ufunc size changed, may indicate binary incompatibility. Expected 192 from C header, got 216 from PyObject\n",
      "  return f(*args, **kwds)\n"
     ]
    },
    {
     "data": {
      "text/html": [
       "<div>\n",
       "<style scoped>\n",
       "    .dataframe tbody tr th:only-of-type {\n",
       "        vertical-align: middle;\n",
       "    }\n",
       "\n",
       "    .dataframe tbody tr th {\n",
       "        vertical-align: top;\n",
       "    }\n",
       "\n",
       "    .dataframe thead th {\n",
       "        text-align: right;\n",
       "    }\n",
       "</style>\n",
       "<table border=\"1\" class=\"dataframe\">\n",
       "  <thead>\n",
       "    <tr style=\"text-align: right;\">\n",
       "      <th></th>\n",
       "      <th>id</th>\n",
       "      <th>player_fifa_api_id</th>\n",
       "      <th>player_api_id</th>\n",
       "      <th>date</th>\n",
       "      <th>overall_rating</th>\n",
       "      <th>potential</th>\n",
       "      <th>preferred_foot</th>\n",
       "      <th>attacking_work_rate</th>\n",
       "      <th>defensive_work_rate</th>\n",
       "      <th>crossing</th>\n",
       "      <th>...</th>\n",
       "      <th>vision</th>\n",
       "      <th>penalties</th>\n",
       "      <th>marking</th>\n",
       "      <th>standing_tackle</th>\n",
       "      <th>sliding_tackle</th>\n",
       "      <th>gk_diving</th>\n",
       "      <th>gk_handling</th>\n",
       "      <th>gk_kicking</th>\n",
       "      <th>gk_positioning</th>\n",
       "      <th>gk_reflexes</th>\n",
       "    </tr>\n",
       "  </thead>\n",
       "  <tbody>\n",
       "    <tr>\n",
       "      <th>0</th>\n",
       "      <td>1</td>\n",
       "      <td>218353</td>\n",
       "      <td>505942</td>\n",
       "      <td>2016-02-18 00:00:00</td>\n",
       "      <td>67</td>\n",
       "      <td>71</td>\n",
       "      <td>right</td>\n",
       "      <td>medium</td>\n",
       "      <td>medium</td>\n",
       "      <td>49</td>\n",
       "      <td>...</td>\n",
       "      <td>54</td>\n",
       "      <td>48</td>\n",
       "      <td>65</td>\n",
       "      <td>69</td>\n",
       "      <td>69</td>\n",
       "      <td>6</td>\n",
       "      <td>11</td>\n",
       "      <td>10</td>\n",
       "      <td>8</td>\n",
       "      <td>8</td>\n",
       "    </tr>\n",
       "    <tr>\n",
       "      <th>1</th>\n",
       "      <td>2</td>\n",
       "      <td>218353</td>\n",
       "      <td>505942</td>\n",
       "      <td>2015-11-19 00:00:00</td>\n",
       "      <td>67</td>\n",
       "      <td>71</td>\n",
       "      <td>right</td>\n",
       "      <td>medium</td>\n",
       "      <td>medium</td>\n",
       "      <td>49</td>\n",
       "      <td>...</td>\n",
       "      <td>54</td>\n",
       "      <td>48</td>\n",
       "      <td>65</td>\n",
       "      <td>69</td>\n",
       "      <td>69</td>\n",
       "      <td>6</td>\n",
       "      <td>11</td>\n",
       "      <td>10</td>\n",
       "      <td>8</td>\n",
       "      <td>8</td>\n",
       "    </tr>\n",
       "    <tr>\n",
       "      <th>2</th>\n",
       "      <td>3</td>\n",
       "      <td>218353</td>\n",
       "      <td>505942</td>\n",
       "      <td>2015-09-21 00:00:00</td>\n",
       "      <td>62</td>\n",
       "      <td>66</td>\n",
       "      <td>right</td>\n",
       "      <td>medium</td>\n",
       "      <td>medium</td>\n",
       "      <td>49</td>\n",
       "      <td>...</td>\n",
       "      <td>54</td>\n",
       "      <td>48</td>\n",
       "      <td>65</td>\n",
       "      <td>66</td>\n",
       "      <td>69</td>\n",
       "      <td>6</td>\n",
       "      <td>11</td>\n",
       "      <td>10</td>\n",
       "      <td>8</td>\n",
       "      <td>8</td>\n",
       "    </tr>\n",
       "    <tr>\n",
       "      <th>3</th>\n",
       "      <td>4</td>\n",
       "      <td>218353</td>\n",
       "      <td>505942</td>\n",
       "      <td>2015-03-20 00:00:00</td>\n",
       "      <td>61</td>\n",
       "      <td>65</td>\n",
       "      <td>right</td>\n",
       "      <td>medium</td>\n",
       "      <td>medium</td>\n",
       "      <td>48</td>\n",
       "      <td>...</td>\n",
       "      <td>53</td>\n",
       "      <td>47</td>\n",
       "      <td>62</td>\n",
       "      <td>63</td>\n",
       "      <td>66</td>\n",
       "      <td>5</td>\n",
       "      <td>10</td>\n",
       "      <td>9</td>\n",
       "      <td>7</td>\n",
       "      <td>7</td>\n",
       "    </tr>\n",
       "    <tr>\n",
       "      <th>4</th>\n",
       "      <td>5</td>\n",
       "      <td>218353</td>\n",
       "      <td>505942</td>\n",
       "      <td>2007-02-22 00:00:00</td>\n",
       "      <td>61</td>\n",
       "      <td>65</td>\n",
       "      <td>right</td>\n",
       "      <td>medium</td>\n",
       "      <td>medium</td>\n",
       "      <td>48</td>\n",
       "      <td>...</td>\n",
       "      <td>53</td>\n",
       "      <td>47</td>\n",
       "      <td>62</td>\n",
       "      <td>63</td>\n",
       "      <td>66</td>\n",
       "      <td>5</td>\n",
       "      <td>10</td>\n",
       "      <td>9</td>\n",
       "      <td>7</td>\n",
       "      <td>7</td>\n",
       "    </tr>\n",
       "  </tbody>\n",
       "</table>\n",
       "<p>5 rows × 42 columns</p>\n",
       "</div>"
      ],
      "text/plain": [
       "   id  player_fifa_api_id  player_api_id                 date  overall_rating  \\\n",
       "0   1              218353         505942  2016-02-18 00:00:00              67   \n",
       "1   2              218353         505942  2015-11-19 00:00:00              67   \n",
       "2   3              218353         505942  2015-09-21 00:00:00              62   \n",
       "3   4              218353         505942  2015-03-20 00:00:00              61   \n",
       "4   5              218353         505942  2007-02-22 00:00:00              61   \n",
       "\n",
       "   potential preferred_foot attacking_work_rate defensive_work_rate  crossing  \\\n",
       "0         71          right              medium              medium        49   \n",
       "1         71          right              medium              medium        49   \n",
       "2         66          right              medium              medium        49   \n",
       "3         65          right              medium              medium        48   \n",
       "4         65          right              medium              medium        48   \n",
       "\n",
       "   ...  vision  penalties  marking  standing_tackle  sliding_tackle  \\\n",
       "0  ...      54         48       65               69              69   \n",
       "1  ...      54         48       65               69              69   \n",
       "2  ...      54         48       65               66              69   \n",
       "3  ...      53         47       62               63              66   \n",
       "4  ...      53         47       62               63              66   \n",
       "\n",
       "   gk_diving  gk_handling  gk_kicking  gk_positioning  gk_reflexes  \n",
       "0          6           11          10               8            8  \n",
       "1          6           11          10               8            8  \n",
       "2          6           11          10               8            8  \n",
       "3          5           10           9               7            7  \n",
       "4          5           10           9               7            7  \n",
       "\n",
       "[5 rows x 42 columns]"
      ]
     },
     "execution_count": 12,
     "metadata": {},
     "output_type": "execute_result"
    }
   ],
   "source": [
    "player_attributes = spark.read.csv(path + 'player_attributes.csv',inferSchema=True,header=True)\n",
    "player_attributes.limit(5).toPandas()"
   ]
  },
  {
   "cell_type": "code",
   "execution_count": 15,
   "metadata": {},
   "outputs": [
    {
     "data": {
      "text/plain": [
       "11060"
      ]
     },
     "execution_count": 15,
     "metadata": {},
     "output_type": "execute_result"
    }
   ],
   "source": [
    "player_attributes.select('player_api_id').distinct().count()"
   ]
  },
  {
   "cell_type": "code",
   "execution_count": 16,
   "metadata": {},
   "outputs": [
    {
     "data": {
      "text/plain": [
       "183978"
      ]
     },
     "execution_count": 16,
     "metadata": {},
     "output_type": "execute_result"
    }
   ],
   "source": [
    "player_attributes.count()"
   ]
  },
  {
   "cell_type": "code",
   "execution_count": 21,
   "metadata": {},
   "outputs": [],
   "source": [
    "players_data = players_data.drop('id','player_fifa_api_id')"
   ]
  },
  {
   "cell_type": "code",
   "execution_count": 22,
   "metadata": {},
   "outputs": [
    {
     "name": "stdout",
     "output_type": "stream",
     "text": [
      "root\n",
      " |-- id: integer (nullable = true)\n",
      " |-- player_fifa_api_id: integer (nullable = true)\n",
      " |-- player_api_id: integer (nullable = true)\n",
      " |-- date: string (nullable = true)\n",
      " |-- overall_rating: integer (nullable = true)\n",
      " |-- potential: integer (nullable = true)\n",
      " |-- preferred_foot: string (nullable = true)\n",
      " |-- attacking_work_rate: string (nullable = true)\n",
      " |-- defensive_work_rate: string (nullable = true)\n",
      " |-- crossing: integer (nullable = true)\n",
      " |-- finishing: integer (nullable = true)\n",
      " |-- heading_accuracy: integer (nullable = true)\n",
      " |-- short_passing: integer (nullable = true)\n",
      " |-- volleys: integer (nullable = true)\n",
      " |-- dribbling: integer (nullable = true)\n",
      " |-- curve: integer (nullable = true)\n",
      " |-- free_kick_accuracy: integer (nullable = true)\n",
      " |-- long_passing: integer (nullable = true)\n",
      " |-- ball_control: integer (nullable = true)\n",
      " |-- acceleration: integer (nullable = true)\n",
      " |-- sprint_speed: integer (nullable = true)\n",
      " |-- agility: integer (nullable = true)\n",
      " |-- reactions: integer (nullable = true)\n",
      " |-- balance: integer (nullable = true)\n",
      " |-- shot_power: integer (nullable = true)\n",
      " |-- jumping: integer (nullable = true)\n",
      " |-- stamina: integer (nullable = true)\n",
      " |-- strength: integer (nullable = true)\n",
      " |-- long_shots: integer (nullable = true)\n",
      " |-- aggression: integer (nullable = true)\n",
      " |-- interceptions: integer (nullable = true)\n",
      " |-- positioning: integer (nullable = true)\n",
      " |-- vision: integer (nullable = true)\n",
      " |-- penalties: integer (nullable = true)\n",
      " |-- marking: integer (nullable = true)\n",
      " |-- standing_tackle: integer (nullable = true)\n",
      " |-- sliding_tackle: integer (nullable = true)\n",
      " |-- gk_diving: integer (nullable = true)\n",
      " |-- gk_handling: integer (nullable = true)\n",
      " |-- gk_kicking: integer (nullable = true)\n",
      " |-- gk_positioning: integer (nullable = true)\n",
      " |-- gk_reflexes: integer (nullable = true)\n",
      "\n"
     ]
    }
   ],
   "source": [
    "player_attributes.printSchema()"
   ]
  },
  {
   "cell_type": "code",
   "execution_count": 24,
   "metadata": {},
   "outputs": [],
   "source": [
    "player_attributes = player_attributes.drop('id','player_fifa_api_id','preferred_foot','attacking_work_rate','defensive_work_rate','crossing','jumping'\n",
    "                      ,'sprint_speed','balance','aggression','short_passing','potential')"
   ]
  },
  {
   "cell_type": "code",
   "execution_count": 25,
   "metadata": {},
   "outputs": [],
   "source": [
    "player_attributes = player_attributes.dropna()\n",
    "players_data = players_data.dropna()"
   ]
  },
  {
   "cell_type": "code",
   "execution_count": 36,
   "metadata": {},
   "outputs": [],
   "source": [
    "from pyspark.sql.functions import udf,round"
   ]
  },
  {
   "cell_type": "code",
   "execution_count": 27,
   "metadata": {},
   "outputs": [],
   "source": [
    "year_extract_udf = udf(lambda data: data.split('-')[0])\n",
    "\n",
    "player_attributes = player_attributes.withColumn('year',\n",
    "                                                year_extract_udf(player_attributes.date))"
   ]
  },
  {
   "cell_type": "code",
   "execution_count": 28,
   "metadata": {},
   "outputs": [
    {
     "name": "stdout",
     "output_type": "stream",
     "text": [
      "root\n",
      " |-- player_api_id: integer (nullable = true)\n",
      " |-- date: string (nullable = true)\n",
      " |-- overall_rating: integer (nullable = true)\n",
      " |-- finishing: integer (nullable = true)\n",
      " |-- heading_accuracy: integer (nullable = true)\n",
      " |-- volleys: integer (nullable = true)\n",
      " |-- dribbling: integer (nullable = true)\n",
      " |-- curve: integer (nullable = true)\n",
      " |-- free_kick_accuracy: integer (nullable = true)\n",
      " |-- long_passing: integer (nullable = true)\n",
      " |-- ball_control: integer (nullable = true)\n",
      " |-- acceleration: integer (nullable = true)\n",
      " |-- agility: integer (nullable = true)\n",
      " |-- reactions: integer (nullable = true)\n",
      " |-- shot_power: integer (nullable = true)\n",
      " |-- stamina: integer (nullable = true)\n",
      " |-- strength: integer (nullable = true)\n",
      " |-- long_shots: integer (nullable = true)\n",
      " |-- interceptions: integer (nullable = true)\n",
      " |-- positioning: integer (nullable = true)\n",
      " |-- vision: integer (nullable = true)\n",
      " |-- penalties: integer (nullable = true)\n",
      " |-- marking: integer (nullable = true)\n",
      " |-- standing_tackle: integer (nullable = true)\n",
      " |-- sliding_tackle: integer (nullable = true)\n",
      " |-- gk_diving: integer (nullable = true)\n",
      " |-- gk_handling: integer (nullable = true)\n",
      " |-- gk_kicking: integer (nullable = true)\n",
      " |-- gk_positioning: integer (nullable = true)\n",
      " |-- gk_reflexes: integer (nullable = true)\n",
      " |-- year: string (nullable = true)\n",
      "\n"
     ]
    }
   ],
   "source": [
    "player_attributes.printSchema()"
   ]
  },
  {
   "cell_type": "code",
   "execution_count": 29,
   "metadata": {},
   "outputs": [
    {
     "data": {
      "text/html": [
       "<div>\n",
       "<style scoped>\n",
       "    .dataframe tbody tr th:only-of-type {\n",
       "        vertical-align: middle;\n",
       "    }\n",
       "\n",
       "    .dataframe tbody tr th {\n",
       "        vertical-align: top;\n",
       "    }\n",
       "\n",
       "    .dataframe thead th {\n",
       "        text-align: right;\n",
       "    }\n",
       "</style>\n",
       "<table border=\"1\" class=\"dataframe\">\n",
       "  <thead>\n",
       "    <tr style=\"text-align: right;\">\n",
       "      <th></th>\n",
       "      <th>player_api_id</th>\n",
       "      <th>date</th>\n",
       "      <th>overall_rating</th>\n",
       "      <th>finishing</th>\n",
       "      <th>heading_accuracy</th>\n",
       "      <th>volleys</th>\n",
       "      <th>dribbling</th>\n",
       "      <th>curve</th>\n",
       "      <th>free_kick_accuracy</th>\n",
       "      <th>long_passing</th>\n",
       "      <th>...</th>\n",
       "      <th>penalties</th>\n",
       "      <th>marking</th>\n",
       "      <th>standing_tackle</th>\n",
       "      <th>sliding_tackle</th>\n",
       "      <th>gk_diving</th>\n",
       "      <th>gk_handling</th>\n",
       "      <th>gk_kicking</th>\n",
       "      <th>gk_positioning</th>\n",
       "      <th>gk_reflexes</th>\n",
       "      <th>year</th>\n",
       "    </tr>\n",
       "  </thead>\n",
       "  <tbody>\n",
       "    <tr>\n",
       "      <th>0</th>\n",
       "      <td>505942</td>\n",
       "      <td>2016-02-18 00:00:00</td>\n",
       "      <td>67</td>\n",
       "      <td>44</td>\n",
       "      <td>71</td>\n",
       "      <td>44</td>\n",
       "      <td>51</td>\n",
       "      <td>45</td>\n",
       "      <td>39</td>\n",
       "      <td>64</td>\n",
       "      <td>...</td>\n",
       "      <td>48</td>\n",
       "      <td>65</td>\n",
       "      <td>69</td>\n",
       "      <td>69</td>\n",
       "      <td>6</td>\n",
       "      <td>11</td>\n",
       "      <td>10</td>\n",
       "      <td>8</td>\n",
       "      <td>8</td>\n",
       "      <td>2016</td>\n",
       "    </tr>\n",
       "    <tr>\n",
       "      <th>1</th>\n",
       "      <td>505942</td>\n",
       "      <td>2015-11-19 00:00:00</td>\n",
       "      <td>67</td>\n",
       "      <td>44</td>\n",
       "      <td>71</td>\n",
       "      <td>44</td>\n",
       "      <td>51</td>\n",
       "      <td>45</td>\n",
       "      <td>39</td>\n",
       "      <td>64</td>\n",
       "      <td>...</td>\n",
       "      <td>48</td>\n",
       "      <td>65</td>\n",
       "      <td>69</td>\n",
       "      <td>69</td>\n",
       "      <td>6</td>\n",
       "      <td>11</td>\n",
       "      <td>10</td>\n",
       "      <td>8</td>\n",
       "      <td>8</td>\n",
       "      <td>2015</td>\n",
       "    </tr>\n",
       "    <tr>\n",
       "      <th>2</th>\n",
       "      <td>505942</td>\n",
       "      <td>2015-09-21 00:00:00</td>\n",
       "      <td>62</td>\n",
       "      <td>44</td>\n",
       "      <td>71</td>\n",
       "      <td>44</td>\n",
       "      <td>51</td>\n",
       "      <td>45</td>\n",
       "      <td>39</td>\n",
       "      <td>64</td>\n",
       "      <td>...</td>\n",
       "      <td>48</td>\n",
       "      <td>65</td>\n",
       "      <td>66</td>\n",
       "      <td>69</td>\n",
       "      <td>6</td>\n",
       "      <td>11</td>\n",
       "      <td>10</td>\n",
       "      <td>8</td>\n",
       "      <td>8</td>\n",
       "      <td>2015</td>\n",
       "    </tr>\n",
       "    <tr>\n",
       "      <th>3</th>\n",
       "      <td>505942</td>\n",
       "      <td>2015-03-20 00:00:00</td>\n",
       "      <td>61</td>\n",
       "      <td>43</td>\n",
       "      <td>70</td>\n",
       "      <td>43</td>\n",
       "      <td>50</td>\n",
       "      <td>44</td>\n",
       "      <td>38</td>\n",
       "      <td>63</td>\n",
       "      <td>...</td>\n",
       "      <td>47</td>\n",
       "      <td>62</td>\n",
       "      <td>63</td>\n",
       "      <td>66</td>\n",
       "      <td>5</td>\n",
       "      <td>10</td>\n",
       "      <td>9</td>\n",
       "      <td>7</td>\n",
       "      <td>7</td>\n",
       "      <td>2015</td>\n",
       "    </tr>\n",
       "    <tr>\n",
       "      <th>4</th>\n",
       "      <td>505942</td>\n",
       "      <td>2007-02-22 00:00:00</td>\n",
       "      <td>61</td>\n",
       "      <td>43</td>\n",
       "      <td>70</td>\n",
       "      <td>43</td>\n",
       "      <td>50</td>\n",
       "      <td>44</td>\n",
       "      <td>38</td>\n",
       "      <td>63</td>\n",
       "      <td>...</td>\n",
       "      <td>47</td>\n",
       "      <td>62</td>\n",
       "      <td>63</td>\n",
       "      <td>66</td>\n",
       "      <td>5</td>\n",
       "      <td>10</td>\n",
       "      <td>9</td>\n",
       "      <td>7</td>\n",
       "      <td>7</td>\n",
       "      <td>2007</td>\n",
       "    </tr>\n",
       "  </tbody>\n",
       "</table>\n",
       "<p>5 rows × 31 columns</p>\n",
       "</div>"
      ],
      "text/plain": [
       "   player_api_id                 date  overall_rating  finishing  \\\n",
       "0         505942  2016-02-18 00:00:00              67         44   \n",
       "1         505942  2015-11-19 00:00:00              67         44   \n",
       "2         505942  2015-09-21 00:00:00              62         44   \n",
       "3         505942  2015-03-20 00:00:00              61         43   \n",
       "4         505942  2007-02-22 00:00:00              61         43   \n",
       "\n",
       "   heading_accuracy  volleys  dribbling  curve  free_kick_accuracy  \\\n",
       "0                71       44         51     45                  39   \n",
       "1                71       44         51     45                  39   \n",
       "2                71       44         51     45                  39   \n",
       "3                70       43         50     44                  38   \n",
       "4                70       43         50     44                  38   \n",
       "\n",
       "   long_passing  ...  penalties  marking  standing_tackle  sliding_tackle  \\\n",
       "0            64  ...         48       65               69              69   \n",
       "1            64  ...         48       65               69              69   \n",
       "2            64  ...         48       65               66              69   \n",
       "3            63  ...         47       62               63              66   \n",
       "4            63  ...         47       62               63              66   \n",
       "\n",
       "   gk_diving  gk_handling  gk_kicking  gk_positioning  gk_reflexes  year  \n",
       "0          6           11          10               8            8  2016  \n",
       "1          6           11          10               8            8  2015  \n",
       "2          6           11          10               8            8  2015  \n",
       "3          5           10           9               7            7  2015  \n",
       "4          5           10           9               7            7  2007  \n",
       "\n",
       "[5 rows x 31 columns]"
      ]
     },
     "execution_count": 29,
     "metadata": {},
     "output_type": "execute_result"
    }
   ],
   "source": [
    "player_attributes.limit(5).toPandas()"
   ]
  },
  {
   "cell_type": "code",
   "execution_count": 30,
   "metadata": {},
   "outputs": [],
   "source": [
    "player_attributes = player_attributes.drop('date')"
   ]
  },
  {
   "cell_type": "code",
   "execution_count": 31,
   "metadata": {},
   "outputs": [],
   "source": [
    "player_2016 = player_attributes.filter(player_attributes.year ==2016)"
   ]
  },
  {
   "cell_type": "code",
   "execution_count": 32,
   "metadata": {},
   "outputs": [
    {
     "data": {
      "text/plain": [
       "14098"
      ]
     },
     "execution_count": 32,
     "metadata": {},
     "output_type": "execute_result"
    }
   ],
   "source": [
    "player_2016.count()"
   ]
  },
  {
   "cell_type": "code",
   "execution_count": 33,
   "metadata": {},
   "outputs": [
    {
     "data": {
      "text/plain": [
       "5586"
      ]
     },
     "execution_count": 33,
     "metadata": {},
     "output_type": "execute_result"
    }
   ],
   "source": [
    "player_2016.select(player_2016.player_api_id).distinct().count()"
   ]
  },
  {
   "cell_type": "code",
   "execution_count": 51,
   "metadata": {},
   "outputs": [],
   "source": [
    "player_striker_2016 = player_2016.groupBy('player_api_id').agg(\n",
    "                        {\n",
    "                            'finishing':'avg',\n",
    "                            'shot_power':'avg',\n",
    "                            'acceleration':'avg'\n",
    "                        }) "
   ]
  },
  {
   "cell_type": "code",
   "execution_count": 52,
   "metadata": {},
   "outputs": [],
   "source": [
    "player_striker_2016 = player_striker_2016.withColumnRenamed('avg(finishing)','finishing').\\\n",
    "                    withColumnRenamed('avg(acceleration)','acceleration').\\\n",
    "                    withColumnRenamed('avg(shot_power)','shot_power')"
   ]
  },
  {
   "cell_type": "code",
   "execution_count": 53,
   "metadata": {},
   "outputs": [],
   "source": [
    "player_striker_2016 = player_striker_2016.withColumn('overall',(player_striker_2016.finishing*1+\n",
    "                                          player_striker_2016.acceleration*1+\n",
    "                                          player_striker_2016.shot_power*2)/4)"
   ]
  },
  {
   "cell_type": "code",
   "execution_count": 54,
   "metadata": {},
   "outputs": [],
   "source": [
    "player_striker_2016 = player_striker_2016.drop('finishing','acceleration','shot_power')"
   ]
  },
  {
   "cell_type": "code",
   "execution_count": 55,
   "metadata": {},
   "outputs": [
    {
     "name": "stdout",
     "output_type": "stream",
     "text": [
      "+-------------+-------+\n",
      "|player_api_id|overall|\n",
      "+-------------+-------+\n",
      "|        20276|  89.25|\n",
      "|        37412|   89.0|\n",
      "|        38817|  88.75|\n",
      "|        32118|  88.25|\n",
      "|        31921|   87.0|\n",
      "+-------------+-------+\n",
      "only showing top 5 rows\n",
      "\n"
     ]
    }
   ],
   "source": [
    "player_striker_2016.orderBy(player_striker_2016['overall'].desc()).show(5)"
   ]
  },
  {
   "cell_type": "code",
   "execution_count": 57,
   "metadata": {},
   "outputs": [],
   "source": [
    "striker = player_striker_2016.filter(player_striker_2016.overall > 70).sort(player_striker_2016.overall.desc())"
   ]
  },
  {
   "cell_type": "code",
   "execution_count": 58,
   "metadata": {},
   "outputs": [
    {
     "name": "stdout",
     "output_type": "stream",
     "text": [
      "+-------------+-------+\n",
      "|player_api_id|overall|\n",
      "+-------------+-------+\n",
      "|        20276|  89.25|\n",
      "|        37412|   89.0|\n",
      "|        38817|  88.75|\n",
      "|        32118|  88.25|\n",
      "|        31921|   87.0|\n",
      "+-------------+-------+\n",
      "only showing top 5 rows\n",
      "\n"
     ]
    }
   ],
   "source": [
    "striker.show(5)"
   ]
  },
  {
   "cell_type": "code",
   "execution_count": 63,
   "metadata": {},
   "outputs": [],
   "source": [
    "striker_details = players_data.join(striker,players_data.player_api_id == striker.player_api_id)"
   ]
  },
  {
   "cell_type": "code",
   "execution_count": 64,
   "metadata": {},
   "outputs": [
    {
     "data": {
      "text/html": [
       "<div>\n",
       "<style scoped>\n",
       "    .dataframe tbody tr th:only-of-type {\n",
       "        vertical-align: middle;\n",
       "    }\n",
       "\n",
       "    .dataframe tbody tr th {\n",
       "        vertical-align: top;\n",
       "    }\n",
       "\n",
       "    .dataframe thead th {\n",
       "        text-align: right;\n",
       "    }\n",
       "</style>\n",
       "<table border=\"1\" class=\"dataframe\">\n",
       "  <thead>\n",
       "    <tr style=\"text-align: right;\">\n",
       "      <th></th>\n",
       "      <th>player_api_id</th>\n",
       "      <th>player_name</th>\n",
       "      <th>birthday</th>\n",
       "      <th>height</th>\n",
       "      <th>weight</th>\n",
       "      <th>player_api_id</th>\n",
       "      <th>overall</th>\n",
       "    </tr>\n",
       "  </thead>\n",
       "  <tbody>\n",
       "    <tr>\n",
       "      <th>0</th>\n",
       "      <td>114503</td>\n",
       "      <td>Abiola Dauda</td>\n",
       "      <td>1988-02-03 00:00:00</td>\n",
       "      <td>180.34</td>\n",
       "      <td>165</td>\n",
       "      <td>114503</td>\n",
       "      <td>76.250000</td>\n",
       "    </tr>\n",
       "    <tr>\n",
       "      <th>1</th>\n",
       "      <td>166648</td>\n",
       "      <td>Carlos Bacca</td>\n",
       "      <td>1986-09-08 00:00:00</td>\n",
       "      <td>180.34</td>\n",
       "      <td>170</td>\n",
       "      <td>166648</td>\n",
       "      <td>83.208333</td>\n",
       "    </tr>\n",
       "    <tr>\n",
       "      <th>2</th>\n",
       "      <td>265363</td>\n",
       "      <td>Chris Loewe</td>\n",
       "      <td>1989-04-16 00:00:00</td>\n",
       "      <td>172.72</td>\n",
       "      <td>139</td>\n",
       "      <td>265363</td>\n",
       "      <td>71.666667</td>\n",
       "    </tr>\n",
       "    <tr>\n",
       "      <th>3</th>\n",
       "      <td>41890</td>\n",
       "      <td>Claudio Marchisio</td>\n",
       "      <td>1986-01-19 00:00:00</td>\n",
       "      <td>180.34</td>\n",
       "      <td>157</td>\n",
       "      <td>41890</td>\n",
       "      <td>75.250000</td>\n",
       "    </tr>\n",
       "    <tr>\n",
       "      <th>4</th>\n",
       "      <td>195413</td>\n",
       "      <td>Daniele Baselli</td>\n",
       "      <td>1992-03-23 00:00:00</td>\n",
       "      <td>182.88</td>\n",
       "      <td>154</td>\n",
       "      <td>195413</td>\n",
       "      <td>72.666667</td>\n",
       "    </tr>\n",
       "  </tbody>\n",
       "</table>\n",
       "</div>"
      ],
      "text/plain": [
       "   player_api_id        player_name             birthday  height  weight  \\\n",
       "0         114503       Abiola Dauda  1988-02-03 00:00:00  180.34     165   \n",
       "1         166648       Carlos Bacca  1986-09-08 00:00:00  180.34     170   \n",
       "2         265363        Chris Loewe  1989-04-16 00:00:00  172.72     139   \n",
       "3          41890  Claudio Marchisio  1986-01-19 00:00:00  180.34     157   \n",
       "4         195413    Daniele Baselli  1992-03-23 00:00:00  182.88     154   \n",
       "\n",
       "   player_api_id    overall  \n",
       "0         114503  76.250000  \n",
       "1         166648  83.208333  \n",
       "2         265363  71.666667  \n",
       "3          41890  75.250000  \n",
       "4         195413  72.666667  "
      ]
     },
     "execution_count": 64,
     "metadata": {},
     "output_type": "execute_result"
    }
   ],
   "source": [
    "striker_details.limit(5).toPandas()"
   ]
  },
  {
   "cell_type": "code",
   "execution_count": 65,
   "metadata": {},
   "outputs": [],
   "source": [
    "striker_details2 = players_data.join(striker,['player_api_id'])"
   ]
  },
  {
   "cell_type": "code",
   "execution_count": 69,
   "metadata": {},
   "outputs": [],
   "source": [
    "top5 = striker_details2.orderBy(striker_details2['overall'].desc())"
   ]
  },
  {
   "cell_type": "code",
   "execution_count": 70,
   "metadata": {},
   "outputs": [
    {
     "data": {
      "text/html": [
       "<div>\n",
       "<style scoped>\n",
       "    .dataframe tbody tr th:only-of-type {\n",
       "        vertical-align: middle;\n",
       "    }\n",
       "\n",
       "    .dataframe tbody tr th {\n",
       "        vertical-align: top;\n",
       "    }\n",
       "\n",
       "    .dataframe thead th {\n",
       "        text-align: right;\n",
       "    }\n",
       "</style>\n",
       "<table border=\"1\" class=\"dataframe\">\n",
       "  <thead>\n",
       "    <tr style=\"text-align: right;\">\n",
       "      <th></th>\n",
       "      <th>player_api_id</th>\n",
       "      <th>player_name</th>\n",
       "      <th>birthday</th>\n",
       "      <th>height</th>\n",
       "      <th>weight</th>\n",
       "      <th>overall</th>\n",
       "    </tr>\n",
       "  </thead>\n",
       "  <tbody>\n",
       "    <tr>\n",
       "      <th>0</th>\n",
       "      <td>20276</td>\n",
       "      <td>Hulk</td>\n",
       "      <td>1986-07-25 00:00:00</td>\n",
       "      <td>180.34</td>\n",
       "      <td>187</td>\n",
       "      <td>89.25</td>\n",
       "    </tr>\n",
       "    <tr>\n",
       "      <th>1</th>\n",
       "      <td>37412</td>\n",
       "      <td>Sergio Aguero</td>\n",
       "      <td>1988-06-02 00:00:00</td>\n",
       "      <td>172.72</td>\n",
       "      <td>163</td>\n",
       "      <td>89.00</td>\n",
       "    </tr>\n",
       "    <tr>\n",
       "      <th>2</th>\n",
       "      <td>38817</td>\n",
       "      <td>Carlos Tevez</td>\n",
       "      <td>1984-02-05 00:00:00</td>\n",
       "      <td>172.72</td>\n",
       "      <td>157</td>\n",
       "      <td>88.75</td>\n",
       "    </tr>\n",
       "    <tr>\n",
       "      <th>3</th>\n",
       "      <td>32118</td>\n",
       "      <td>Lukas Podolski</td>\n",
       "      <td>1985-06-04 00:00:00</td>\n",
       "      <td>182.88</td>\n",
       "      <td>183</td>\n",
       "      <td>88.25</td>\n",
       "    </tr>\n",
       "    <tr>\n",
       "      <th>4</th>\n",
       "      <td>31921</td>\n",
       "      <td>Gareth Bale</td>\n",
       "      <td>1989-07-16 00:00:00</td>\n",
       "      <td>182.88</td>\n",
       "      <td>163</td>\n",
       "      <td>87.00</td>\n",
       "    </tr>\n",
       "  </tbody>\n",
       "</table>\n",
       "</div>"
      ],
      "text/plain": [
       "   player_api_id     player_name             birthday  height  weight  overall\n",
       "0          20276            Hulk  1986-07-25 00:00:00  180.34     187    89.25\n",
       "1          37412   Sergio Aguero  1988-06-02 00:00:00  172.72     163    89.00\n",
       "2          38817    Carlos Tevez  1984-02-05 00:00:00  172.72     157    88.75\n",
       "3          32118  Lukas Podolski  1985-06-04 00:00:00  182.88     183    88.25\n",
       "4          31921     Gareth Bale  1989-07-16 00:00:00  182.88     163    87.00"
      ]
     },
     "execution_count": 70,
     "metadata": {},
     "output_type": "execute_result"
    }
   ],
   "source": [
    "top5.limit(5).toPandas()"
   ]
  },
  {
   "cell_type": "code",
   "execution_count": 71,
   "metadata": {},
   "outputs": [],
   "source": [
    "from pyspark.sql.functions import broadcast\n",
    "striker_details3 = players_data.select('player_api_id','player_name').\\\n",
    "                    join(\n",
    "                        broadcast(striker),\n",
    "                        ['player_api_id'],'inner')"
   ]
  },
  {
   "cell_type": "code",
   "execution_count": 72,
   "metadata": {},
   "outputs": [
    {
     "data": {
      "text/html": [
       "<div>\n",
       "<style scoped>\n",
       "    .dataframe tbody tr th:only-of-type {\n",
       "        vertical-align: middle;\n",
       "    }\n",
       "\n",
       "    .dataframe tbody tr th {\n",
       "        vertical-align: top;\n",
       "    }\n",
       "\n",
       "    .dataframe thead th {\n",
       "        text-align: right;\n",
       "    }\n",
       "</style>\n",
       "<table border=\"1\" class=\"dataframe\">\n",
       "  <thead>\n",
       "    <tr style=\"text-align: right;\">\n",
       "      <th></th>\n",
       "      <th>player_api_id</th>\n",
       "      <th>player_name</th>\n",
       "      <th>overall</th>\n",
       "    </tr>\n",
       "  </thead>\n",
       "  <tbody>\n",
       "    <tr>\n",
       "      <th>0</th>\n",
       "      <td>20276</td>\n",
       "      <td>Hulk</td>\n",
       "      <td>89.25</td>\n",
       "    </tr>\n",
       "    <tr>\n",
       "      <th>1</th>\n",
       "      <td>37412</td>\n",
       "      <td>Sergio Aguero</td>\n",
       "      <td>89.00</td>\n",
       "    </tr>\n",
       "    <tr>\n",
       "      <th>2</th>\n",
       "      <td>38817</td>\n",
       "      <td>Carlos Tevez</td>\n",
       "      <td>88.75</td>\n",
       "    </tr>\n",
       "    <tr>\n",
       "      <th>3</th>\n",
       "      <td>32118</td>\n",
       "      <td>Lukas Podolski</td>\n",
       "      <td>88.25</td>\n",
       "    </tr>\n",
       "    <tr>\n",
       "      <th>4</th>\n",
       "      <td>31921</td>\n",
       "      <td>Gareth Bale</td>\n",
       "      <td>87.00</td>\n",
       "    </tr>\n",
       "  </tbody>\n",
       "</table>\n",
       "</div>"
      ],
      "text/plain": [
       "   player_api_id     player_name  overall\n",
       "0          20276            Hulk    89.25\n",
       "1          37412   Sergio Aguero    89.00\n",
       "2          38817    Carlos Tevez    88.75\n",
       "3          32118  Lukas Podolski    88.25\n",
       "4          31921     Gareth Bale    87.00"
      ]
     },
     "execution_count": 72,
     "metadata": {},
     "output_type": "execute_result"
    }
   ],
   "source": [
    "striker_details3.orderBy(striker_details2['overall'].desc()).limit(5).toPandas()"
   ]
  },
  {
   "cell_type": "code",
   "execution_count": 73,
   "metadata": {},
   "outputs": [],
   "source": [
    "player_heading_accuracy = player_attributes.select('player_api_id','heading_accuracy').\\\n",
    "                            join(broadcast(players_data),\n",
    "                                player_attributes.player_api_id == players_data.player_api_id)"
   ]
  },
  {
   "cell_type": "code",
   "execution_count": 74,
   "metadata": {},
   "outputs": [
    {
     "name": "stdout",
     "output_type": "stream",
     "text": [
      "+-------------+----------------+-------------+------------------+-------------------+------+------+\n",
      "|player_api_id|heading_accuracy|player_api_id|       player_name|           birthday|height|weight|\n",
      "+-------------+----------------+-------------+------------------+-------------------+------+------+\n",
      "|       505942|              71|       505942|Aaron Appindangoye|1992-02-29 00:00:00|182.88|   187|\n",
      "|       505942|              71|       505942|Aaron Appindangoye|1992-02-29 00:00:00|182.88|   187|\n",
      "|       505942|              71|       505942|Aaron Appindangoye|1992-02-29 00:00:00|182.88|   187|\n",
      "|       505942|              70|       505942|Aaron Appindangoye|1992-02-29 00:00:00|182.88|   187|\n",
      "|       505942|              70|       505942|Aaron Appindangoye|1992-02-29 00:00:00|182.88|   187|\n",
      "+-------------+----------------+-------------+------------------+-------------------+------+------+\n",
      "\n"
     ]
    }
   ],
   "source": [
    "player_heading_accuracy.limit(5).show()"
   ]
  },
  {
   "cell_type": "code",
   "execution_count": 77,
   "metadata": {},
   "outputs": [],
   "source": [
    "short_count = spark.sparkContext.accumulator(0)\n",
    "medium_low_count = spark.sparkContext.accumulator(0)\n",
    "medium_high_count = spark.sparkContext.accumulator(0)\n",
    "tall_count = spark.sparkContext.accumulator(0)"
   ]
  },
  {
   "cell_type": "code",
   "execution_count": 79,
   "metadata": {},
   "outputs": [],
   "source": [
    "def count_player_height_category(row):\n",
    "    height = float(row.height)\n",
    "    \n",
    "    if height <= 175:\n",
    "        short_count.add(1)\n",
    "    elif height <= 183 and height > 175:\n",
    "        medium_low_count.add(1)\n",
    "    elif height <= 195 and height > 183:\n",
    "        medium_high_count.add(1)\n",
    "    elif (height>195):\n",
    "        tall_count.add(1)"
   ]
  },
  {
   "cell_type": "code",
   "execution_count": 80,
   "metadata": {},
   "outputs": [],
   "source": [
    "player_heading_accuracy.foreach(lambda x: count_player_height_category(x))"
   ]
  },
  {
   "cell_type": "code",
   "execution_count": 81,
   "metadata": {},
   "outputs": [
    {
     "data": {
      "text/plain": [
       "[18977, 97399, 61518, 3371]"
      ]
     },
     "execution_count": 81,
     "metadata": {},
     "output_type": "execute_result"
    }
   ],
   "source": [
    "height_category = [short_count.value,\n",
    "                  medium_low_count.value,\n",
    "                  medium_high_count.value,\n",
    "                  tall_count.value]\n",
    "height_category"
   ]
  },
  {
   "cell_type": "code",
   "execution_count": 84,
   "metadata": {},
   "outputs": [],
   "source": [
    "striker_details2.select('player_api_id','overall').coalesce(1).write.option('header','true').csv('players_overall.csv')"
   ]
  },
  {
   "cell_type": "code",
   "execution_count": 85,
   "metadata": {},
   "outputs": [],
   "source": [
    "striker_details2.select('player_api_id','overall').write.json('players_overall.json')"
   ]
  },
  {
   "cell_type": "code",
   "execution_count": null,
   "metadata": {},
   "outputs": [],
   "source": []
  }
 ],
 "metadata": {
  "kernelspec": {
   "display_name": "Python 3",
   "language": "python",
   "name": "python3"
  },
  "language_info": {
   "codemirror_mode": {
    "name": "ipython",
    "version": 3
   },
   "file_extension": ".py",
   "mimetype": "text/x-python",
   "name": "python",
   "nbconvert_exporter": "python",
   "pygments_lexer": "ipython3",
   "version": "3.7.6"
  }
 },
 "nbformat": 4,
 "nbformat_minor": 4
}
